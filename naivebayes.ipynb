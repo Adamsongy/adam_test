{
  "nbformat": 4,
  "nbformat_minor": 0,
  "metadata": {
    "colab": {
      "name": "naivebayes.ipynb",
      "provenance": [],
      "collapsed_sections": [],
      "authorship_tag": "ABX9TyMjuwSOO/AL1mBUFYN0p2C2",
      "include_colab_link": true
    },
    "kernelspec": {
      "name": "python3",
      "display_name": "Python 3"
    },
    "language_info": {
      "name": "python"
    }
  },
  "cells": [
    {
      "cell_type": "markdown",
      "metadata": {
        "id": "view-in-github",
        "colab_type": "text"
      },
      "source": [
        "<a href=\"https://colab.research.google.com/github/Adamsongy/adam_test/blob/main/naivebayes.ipynb\" target=\"_parent\"><img src=\"https://colab.research.google.com/assets/colab-badge.svg\" alt=\"Open In Colab\"/></a>"
      ]
    },
    {
      "cell_type": "code",
      "metadata": {
        "id": "dJ_7n3ume8ri"
      },
      "source": [
        "import pandas as pd\n",
        "from urllib.request import urlretrieve\n",
        "url = \"https://github.com/Elwing-Chou/tibaml1027/raw/main/poem_train.csv\"\n",
        "urlretrieve(url,\"train.csv\")\n",
        "train_df = pd.read_csv(\"train.csv\",encoding=\"utf-8\")\n",
        "url = \"https://github.com/Elwing-Chou/tibaml1027/raw/main/poem_test.csv\"\n",
        "urlretrieve(url,\"test.csv\")\n",
        "test_df = pd.read_csv(\"test.csv\",encoding=\"utf_8\")"
      ],
      "execution_count": 1,
      "outputs": []
    },
    {
      "cell_type": "code",
      "metadata": {
        "id": "PYTG_6bagSUj"
      },
      "source": [
        "#train_df\n",
        "test_df"
      ],
      "execution_count": null,
      "outputs": []
    },
    {
      "cell_type": "code",
      "metadata": {
        "id": "6Aha_KutkOox"
      },
      "source": [
        "# 示範如何作儲存\n",
        "# dic = {\n",
        "#     \"店名\":[],\n",
        "#     \"食記\":[]\n",
        "# }\n",
        "# # ....\n",
        "# dic[\"店名\"].append(\"大腕\")\n",
        "# dic[\"食記\"].append('真的很好吃, \\n非常非常\"好吃\"')\n",
        "# pd.DataFrame(dic).to_csv(\"eat.csv\", encoding=\"utf-8\", index=False)"
      ],
      "execution_count": 3,
      "outputs": []
    },
    {
      "cell_type": "code",
      "metadata": {
        "id": "fV9qkssUkfKy"
      },
      "source": [
        "# 進到函式庫之前,所有東西換成數字\n",
        "# 李白,杜甫,白居易->0,1,2\n",
        "# series.replace({\"李白\":0, \"杜甫\":1})\n",
        "# series.unique/value_counts\n",
        "u=train_df[\"作者\"].unique()\n",
        "\n",
        "# name2idx={}\n",
        "# for i,n in enumerate(u):\n",
        "#   name2idx[n]=i\n",
        "# 可試看看: [i ** 2 for i in range(5)]\n",
        "\n",
        "name2idx = {n:i for i,n in enumerate(u)}\n",
        "idx2name = {i:n for i,n in enumerate(u)}\n",
        "y_train = train_df[\"作者\"].replace(name2idx)\n",
        "y_test = test_df[\"作者\"].replace(name2idx)\n",
        "y_test"
      ],
      "execution_count": null,
      "outputs": []
    },
    {
      "cell_type": "code",
      "metadata": {
        "id": "oWu2NgW6QMjD"
      },
      "source": [
        "import jieba\n",
        "def poemcut(p):\n",
        "  return \" \".join(jieba.cut(p))\n",
        "x_train = train_df[\"內容\"].apply(poemcut)\n",
        "x_test = test_df[\"內容\"].apply(poemcut)\n",
        "x_test"
      ],
      "execution_count": null,
      "outputs": []
    },
    {
      "cell_type": "code",
      "metadata": {
        "id": "Ebw77bZoT8W_"
      },
      "source": [
        "from sklearn.feature_extraction.text import CountVectorizer\n",
        "vec = CountVectorizer()\n",
        "x_train_count = vec.fit_transform(x_train)\n",
        "x_test_count = vec.transform(x_test)"
      ],
      "execution_count": 7,
      "outputs": []
    },
    {
      "cell_type": "code",
      "metadata": {
        "id": "SiOYgqE3VplS"
      },
      "source": [
        "#vec.vocabuulary_"
      ],
      "execution_count": 8,
      "outputs": []
    },
    {
      "cell_type": "code",
      "metadata": {
        "colab": {
          "base_uri": "https://localhost:8080/"
        },
        "id": "cx1cY8X5VuoK",
        "outputId": "49d21f25-2f14-4a4d-c5ce-7ff356473d57"
      },
      "source": [
        "#print(x_train_couunt)\n",
        "x_test_count"
      ],
      "execution_count": 9,
      "outputs": [
        {
          "output_type": "execute_result",
          "data": {
            "text/plain": [
              "<30x52294 sparse matrix of type '<class 'numpy.int64'>'\n",
              "\twith 352 stored elements in Compressed Sparse Row format>"
            ]
          },
          "metadata": {},
          "execution_count": 9
        }
      ]
    },
    {
      "cell_type": "code",
      "metadata": {
        "id": "nXcRZYksYSL-"
      },
      "source": [
        "# check標點和換行沒被算進去(。, \\n, \\r\\n): KeyError才是對的\n",
        "# vec.vocabulary_[\"\\r\\n\"]\n",
        "# vec.vocabulary_[\"。\"]"
      ],
      "execution_count": null,
      "outputs": []
    },
    {
      "cell_type": "code",
      "metadata": {
        "colab": {
          "base_uri": "https://localhost:8080/"
        },
        "id": "i6xeLKLpkFr3",
        "outputId": "9e8f0e74-0dfd-4d9e-f7ef-c1cdb711b6aa"
      },
      "source": [
        "from sklearn.naive_bayes import MultinomialNB\n",
        "clf= MultinomialNB()\n",
        "clf.fit(x_train_count, y_train)"
      ],
      "execution_count": 11,
      "outputs": [
        {
          "output_type": "execute_result",
          "data": {
            "text/plain": [
              "MultinomialNB(alpha=1.0, class_prior=None, fit_prior=True)"
            ]
          },
          "metadata": {},
          "execution_count": 11
        }
      ]
    },
    {
      "cell_type": "code",
      "metadata": {
        "colab": {
          "base_uri": "https://localhost:8080/"
        },
        "id": "8ROQLBJVkhmq",
        "outputId": "34adb8d4-fa85-43a8-8439-00fb6bdcc505"
      },
      "source": [
        "from sklearn.metrics import accuracy_score\n",
        "pre = clf.predict(x_test_count)\n",
        "accuracy_score(pre, y_test)"
      ],
      "execution_count": 12,
      "outputs": [
        {
          "output_type": "execute_result",
          "data": {
            "text/plain": [
              "0.8"
            ]
          },
          "metadata": {},
          "execution_count": 12
        }
      ]
    },
    {
      "cell_type": "code",
      "metadata": {
        "id": "n_XHrdSZk2JM"
      },
      "source": [
        "from sklearn.metrics import confusion_matrix\n",
        "pd.DataFrame(confusion_matrix(y_test,pre),\n",
        "      index=[\"{}(正確)\".format(n) for n in u],\n",
        "      columns=[\"{}(預測)\".format(n) for n in u])"
      ],
      "execution_count": null,
      "outputs": []
    },
    {
      "cell_type": "code",
      "metadata": {
        "id": "snb7ROWr34Yp"
      },
      "source": [
        "testp = input(\"來首詩:\")\n",
        "testpcount = vec.transform([poemcut(testp)])\n",
        "proba = clf.predict_proba(testpcount)[0]\n",
        "for n, p in zip(u, proba):\n",
        "    print(n, \"的機率是:\", p)"
      ],
      "execution_count": null,
      "outputs": []
    }
  ]
}