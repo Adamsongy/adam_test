{
  "nbformat": 4,
  "nbformat_minor": 0,
  "metadata": {
    "colab": {
      "name": "titanic.ipynb",
      "provenance": [],
      "authorship_tag": "ABX9TyMOtWBQoui9PiWmBnYKV11H",
      "include_colab_link": true
    },
    "kernelspec": {
      "name": "python3",
      "display_name": "Python 3"
    },
    "language_info": {
      "name": "python"
    }
  },
  "cells": [
    {
      "cell_type": "markdown",
      "metadata": {
        "id": "view-in-github",
        "colab_type": "text"
      },
      "source": [
        "<a href=\"https://colab.research.google.com/github/Adamsongy/adam_test/blob/main/titanic.ipynb\" target=\"_parent\"><img src=\"https://colab.research.google.com/assets/colab-badge.svg\" alt=\"Open In Colab\"/></a>"
      ]
    },
    {
      "cell_type": "code",
      "metadata": {
        "id": "JP1l_foWqF33"
      },
      "source": [
        "import pandas as pd\n",
        "from urllib.request import urlretrieve\n",
        "url = \"https://github.com/Elwing-Chou/tibaml1027/raw/main/train.csv\"\n",
        "urlretrieve(url, \"train.csv\")\n",
        "train = pd.read_csv(\"train.csv\", encoding=\"utf-8\")\n",
        "url = \"https://github.com/Elwing-Chou/tibaml1027/raw/main/test.csv\"\n",
        "urlretrieve(url, \"test.csv\")\n",
        "test = pd.read_csv(\"test.csv\", encoding=\"utf-8\")"
      ],
      "execution_count": 1,
      "outputs": []
    }
  ]
}