{
  "nbformat": 4,
  "nbformat_minor": 0,
  "metadata": {
    "colab": {
      "name": "titanic.ipynb",
      "provenance": [],
      "collapsed_sections": [],
      "authorship_tag": "ABX9TyPMwWndiILVQ3CpHMrEvPo8",
      "include_colab_link": true
    },
    "kernelspec": {
      "name": "python3",
      "display_name": "Python 3"
    },
    "language_info": {
      "name": "python"
    }
  },
  "cells": [
    {
      "cell_type": "markdown",
      "metadata": {
        "id": "view-in-github",
        "colab_type": "text"
      },
      "source": [
        "<a href=\"https://colab.research.google.com/github/Adamsongy/adam_test/blob/main/titanic.ipynb\" target=\"_parent\"><img src=\"https://colab.research.google.com/assets/colab-badge.svg\" alt=\"Open In Colab\"/></a>"
      ]
    },
    {
      "cell_type": "code",
      "metadata": {
        "id": "JP1l_foWqF33"
      },
      "source": [
        "import pandas as pd\n",
        "from urllib.request import urlretrieve\n",
        "url = \"https://github.com/Elwing-Chou/tibaml1027/raw/main/train.csv\"\n",
        "urlretrieve(url, \"train.csv\")\n",
        "train = pd.read_csv(\"train.csv\", encoding=\"utf-8\")\n",
        "url = \"https://github.com/Elwing-Chou/tibaml1027/raw/main/test.csv\"\n",
        "urlretrieve(url, \"test.csv\")\n",
        "test = pd.read_csv(\"test.csv\", encoding=\"utf-8\")"
      ],
      "execution_count": 2,
      "outputs": []
    },
    {
      "cell_type": "code",
      "metadata": {
        "id": "88yO-zVI_uI8"
      },
      "source": [
        "# concat\n",
        "datas = pd.concat([train, test], axis=0, ignore_index=True)\n",
        "datas = datas.drop([\"PassengerId\", \"Survived\"], axis=1)\n",
        "datas"
      ],
      "execution_count": null,
      "outputs": []
    },
    {
      "cell_type": "code",
      "metadata": {
        "id": "dVbhNtKTBLF4"
      },
      "source": [
        "# d1 = pd.DataFrame([\n",
        "#          [1, 2],\n",
        "#          [3, 4]\n",
        "# ])\n",
        "# d1 = pd.DataFrame([\n",
        "#          [1, 2],\n",
        "#          [3, 4]\n",
        "# ])\n",
        "# pd.concat([d1,d2],axis=0)"
      ],
      "execution_count": null,
      "outputs": []
    },
    {
      "cell_type": "code",
      "metadata": {
        "colab": {
          "base_uri": "https://localhost:8080/"
        },
        "id": "u-UMnh9ZB_-G",
        "outputId": "7b9eaef1-6024-4aac-d26a-d1706315bb72"
      },
      "source": [
        "# 篩選操作 Series/DataFrame[跟你的資料筆數依樣多的True/False]\n",
        "s = datas.isna().sum()\n",
        "s[s > 0].sort_values(ascending=False)"
      ],
      "execution_count": 5,
      "outputs": [
        {
          "output_type": "execute_result",
          "data": {
            "text/plain": [
              "Cabin       1014\n",
              "Age          263\n",
              "Embarked       2\n",
              "Fare           1\n",
              "dtype: int64"
            ]
          },
          "metadata": {},
          "execution_count": 5
        }
      ]
    },
    {
      "cell_type": "code",
      "metadata": {
        "colab": {
          "base_uri": "https://localhost:8080/",
          "height": 81
        },
        "id": "y8nG4Xc-DmJP",
        "outputId": "afca32a5-e3c3-4817-c022-cf704ba76edb"
      },
      "source": [
        "# d1 = pd.DataFrame([\n",
        "#     [1, 2],\n",
        "#     [3, 4]\n",
        "# ])\n",
        "# d1[[False, True]]"
      ],
      "execution_count": 6,
      "outputs": [
        {
          "output_type": "execute_result",
          "data": {
            "text/html": [
              "<div>\n",
              "<style scoped>\n",
              "    .dataframe tbody tr th:only-of-type {\n",
              "        vertical-align: middle;\n",
              "    }\n",
              "\n",
              "    .dataframe tbody tr th {\n",
              "        vertical-align: top;\n",
              "    }\n",
              "\n",
              "    .dataframe thead th {\n",
              "        text-align: right;\n",
              "    }\n",
              "</style>\n",
              "<table border=\"1\" class=\"dataframe\">\n",
              "  <thead>\n",
              "    <tr style=\"text-align: right;\">\n",
              "      <th></th>\n",
              "      <th>0</th>\n",
              "      <th>1</th>\n",
              "    </tr>\n",
              "  </thead>\n",
              "  <tbody>\n",
              "    <tr>\n",
              "      <th>1</th>\n",
              "      <td>3</td>\n",
              "      <td>4</td>\n",
              "    </tr>\n",
              "  </tbody>\n",
              "</table>\n",
              "</div>"
            ],
            "text/plain": [
              "   0  1\n",
              "1  3  4"
            ]
          },
          "metadata": {},
          "execution_count": 6
        }
      ]
    },
    {
      "cell_type": "code",
      "metadata": {
        "colab": {
          "base_uri": "https://localhost:8080/"
        },
        "id": "RklCGQ3BFLmr",
        "outputId": "3ddac181-2dcc-47d6-ff17-757365d7d7b7"
      },
      "source": [
        "#idxmax是用來找Embarked裡面最常出現的種類(s)是甚麼,設定到msot\n",
        "most = datas[\"Embarked\"].value_counts().idxmax()\n",
        "#再把most(S)補到Embarked的空缺裡面\n",
        "datas[\"Embarked\"] = datas[\"Embarked\"].fillna(most)\n",
        "# 再看一下缺多少\n",
        "s = datas.isna().sum()\n",
        "s[s > 0].sort_values(ascending=False)"
      ],
      "execution_count": 7,
      "outputs": [
        {
          "output_type": "execute_result",
          "data": {
            "text/plain": [
              "Cabin    1014\n",
              "Age       263\n",
              "Fare        1\n",
              "dtype: int64"
            ]
          },
          "metadata": {},
          "execution_count": 7
        }
      ]
    },
    {
      "cell_type": "code",
      "metadata": {
        "colab": {
          "base_uri": "https://localhost:8080/"
        },
        "id": "Ewj-DoKcNDwx",
        "outputId": "2c79cbb8-88e6-4658-b1fe-4073347c43b6"
      },
      "source": [
        "#正規表示式\n",
        "import re\n",
        "def name(s):\n",
        "    # .+任意一次以上 , \\s*空白零次以上 (.+) \\. .+\n",
        "    # 比.好的 [a-zA-Z\\s\\(\\)']\n",
        "    pattern = r\".+,\\s*(.+)\\..+\"\n",
        "    # s = \"Braund, Mr. Owen Harris\"\n",
        "    pat = re.compile(pattern)\n",
        "    return pat.match(s).group(1)\n",
        "datas[\"Name\"].apply(name)"
      ],
      "execution_count": 8,
      "outputs": [
        {
          "output_type": "execute_result",
          "data": {
            "text/plain": [
              "0           Mr\n",
              "1          Mrs\n",
              "2         Miss\n",
              "3          Mrs\n",
              "4           Mr\n",
              "         ...  \n",
              "1304        Mr\n",
              "1305      Dona\n",
              "1306        Mr\n",
              "1307        Mr\n",
              "1308    Master\n",
              "Name: Name, Length: 1309, dtype: object"
            ]
          },
          "metadata": {},
          "execution_count": 8
        }
      ]
    },
    {
      "cell_type": "code",
      "metadata": {
        "id": "PLuVCxskNFG_"
      },
      "source": [
        "def name(s):\n",
        "    return s.split(\",\")[-1].split(\".\")[0].strip()\n",
        "datas[\"Name\"] = datas[\"Name\"].apply(name)"
      ],
      "execution_count": 9,
      "outputs": []
    }
  ]
}